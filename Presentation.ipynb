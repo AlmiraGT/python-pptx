{
 "cells": [
  {
   "cell_type": "code",
   "execution_count": 1,
   "id": "3599449c",
   "metadata": {},
   "outputs": [],
   "source": [
    "from pptx import Presentation\n",
    "from pptx.dml.color import RGBColor\n",
    "import win32com.client, sys\n",
    "import os\n",
    "from datetime import datetime, date\n",
    "import time"
   ]
  },
  {
   "cell_type": "code",
   "execution_count": 2,
   "id": "9fd33fdc",
   "metadata": {},
   "outputs": [],
   "source": [
    "start_time = time.time()"
   ]
  },
  {
   "cell_type": "markdown",
   "id": "2da3fc35",
   "metadata": {},
   "source": [
    "#### Folder for final presentation"
   ]
  },
  {
   "cell_type": "code",
   "execution_count": 3,
   "id": "9b176323",
   "metadata": {},
   "outputs": [],
   "source": [
    "os.mkdir(r'.\\Final_presentation')"
   ]
  },
  {
   "cell_type": "markdown",
   "id": "e2fa737e",
   "metadata": {},
   "source": [
    "#### Checking if we can get text from Presentation"
   ]
  },
  {
   "cell_type": "code",
   "execution_count": 4,
   "id": "65010735",
   "metadata": {},
   "outputs": [],
   "source": [
    "def looking_at_slide(presentation):\n",
    "    prs = Presentation(presentation)\n",
    "    slide = prs.slides[0]\n",
    "    for ind, shape in enumerate(slide.shapes):\n",
    "        print(f'Shape {ind}')\n",
    "        if shape.has_text_frame:\n",
    "            text_frame = shape.text_frame\n",
    "            for i in range(len(text_frame.paragraphs[0].runs)):\n",
    "                print(text_frame.paragraphs[0].runs[i].text)\n",
    "        print()"
   ]
  },
  {
   "cell_type": "code",
   "execution_count": 5,
   "id": "151ec305",
   "metadata": {},
   "outputs": [],
   "source": [
    "path_to_file = r'.\\Layouts\\first_slide.pptx'"
   ]
  },
  {
   "cell_type": "code",
   "execution_count": 6,
   "id": "16b8e193",
   "metadata": {},
   "outputs": [
    {
     "name": "stdout",
     "output_type": "stream",
     "text": [
      "Shape 0\n",
      "How to create Presentations using Python\n",
      "\n",
      "Shape 1\n",
      "Today’s\n",
      " date\n",
      "\n",
      "Shape 2\n",
      "Just random shape\n",
      "\n",
      "Shape 3\n",
      "\n"
     ]
    }
   ],
   "source": [
    "looking_at_slide(path_to_file)"
   ]
  },
  {
   "cell_type": "markdown",
   "id": "66f71687",
   "metadata": {},
   "source": [
    "#### Let's change \"Today's date\" to actual today's date"
   ]
  },
  {
   "cell_type": "markdown",
   "id": "dc045fa0",
   "metadata": {},
   "source": [
    "##### Function which does not change the font"
   ]
  },
  {
   "cell_type": "code",
   "execution_count": 7,
   "id": "59fc71bd",
   "metadata": {},
   "outputs": [],
   "source": [
    "def change_date(presentation):\n",
    "    prs = Presentation(presentation)\n",
    "    slide = prs.slides[0]\n",
    "    \n",
    "    # We know that the shape we need has index 1\n",
    "    shape = slide.shapes[1]\n",
    "    text_frame = shape.text_frame\n",
    "    \n",
    "    # Delete old text and write the new one. If we work in such way the font will stay the same\n",
    "    for i in range(len(text_frame.paragraphs[0].runs)):\n",
    "        text_frame.paragraphs[0].runs[i].text = ''\n",
    "    text_frame.paragraphs[0].runs[0].text = f'{datetime.date(datetime.now())}'\n",
    "    \n",
    "    prs.save(r'.\\Final_presentation\\first_slide.pptx')"
   ]
  },
  {
   "cell_type": "markdown",
   "id": "d5fec211",
   "metadata": {},
   "source": [
    "##### Function which turn the font into standard\n",
    "In this case the font of date string will be standard (Calibri)"
   ]
  },
  {
   "cell_type": "code",
   "execution_count": 8,
   "id": "07d83310",
   "metadata": {},
   "outputs": [],
   "source": [
    "def change_date_standard_font(presentation):\n",
    "    prs = Presentation(presentation)\n",
    "    slide = prs.slides[0]\n",
    "    \n",
    "    shape = slide.shapes[1]\n",
    "    text_frame = shape.text_frame\n",
    "    text_frame.text = f'{datetime.date(datetime.now())}'\n",
    "    \n",
    "    prs.save(r'.\\Final_presentation\\first_slide_standard_font.pptx')  "
   ]
  },
  {
   "cell_type": "code",
   "execution_count": 9,
   "id": "ce262126",
   "metadata": {},
   "outputs": [],
   "source": [
    "change_date(path_to_file)"
   ]
  },
  {
   "cell_type": "code",
   "execution_count": 10,
   "id": "0552e83e",
   "metadata": {},
   "outputs": [],
   "source": [
    "change_date_standard_font(path_to_file)"
   ]
  },
  {
   "cell_type": "markdown",
   "id": "10c74cfe",
   "metadata": {},
   "source": [
    "#### Fill in the table\n",
    "Python-pptx library allows us to create tables and simple shapes. But I prefer to create layouts for my Presentations manually because it is much faster or just use layouts given by my managers. Moreover unfortunately not everything which can be done manually in PowerPoint application can be done using python-pptx library. "
   ]
  },
  {
   "cell_type": "code",
   "execution_count": 11,
   "id": "355f54b8",
   "metadata": {},
   "outputs": [],
   "source": [
    "def look_at_table(presentation):\n",
    "    prs = Presentation(presentation)\n",
    "    slide = prs.slides[0]\n",
    "    for ind, shape in enumerate(slide.shapes):\n",
    "        print(f'Shape {ind}')\n",
    "        print(type(shape))\n",
    "        if shape.has_table:\n",
    "            try:\n",
    "                cell = shape.table.cell(0, 0)\n",
    "                text_frame = cell.text_frame\n",
    "                print(f'cell(0, 0):\\t{text_frame.text}')\n",
    "            except:\n",
    "                print('There is no cell(0, 0)')\n",
    "            \n",
    "            try:\n",
    "                cell = shape.table.cell(0, 1)\n",
    "                text_frame = cell.text_frame\n",
    "                print(f'cell(0, 1):\\t{text_frame.text}')\n",
    "            except:\n",
    "                print('There is no cell(0, 1)')\n",
    "                \n",
    "            try:\n",
    "                cell = shape.table.cell(1, 0)\n",
    "                text_frame = cell.text_frame\n",
    "                print(f'cell(1, 0):\\t{text_frame.text}')\n",
    "            except:\n",
    "                print('There is no cell(1, 0)')\n",
    "            \n",
    "            try:\n",
    "                cell = shape.table.cell(1, 1)\n",
    "                text_frame = cell.text_frame\n",
    "                print(f'cell(1, 1):\\t{text_frame.text}')\n",
    "            except:\n",
    "                print('There is no cell(1, 1)')\n",
    "                \n",
    "            try:\n",
    "                cell = shape.table.cell(2, 0)\n",
    "                text_frame = cell.text_frame\n",
    "                print(f'cell(2, 0):\\t{text_frame.text}')\n",
    "            except:\n",
    "                print('There is no cell(2, 0)')\n",
    "            \n",
    "            try:\n",
    "                cell = shape.table.cell(2, 1)\n",
    "                text_frame = cell.text_frame\n",
    "                print(f'cell(2, 1):\\t{text_frame.text}')\n",
    "            except:\n",
    "                print('There is no cell(2, 1)')\n",
    "            \n",
    "            print('-' * 100)"
   ]
  },
  {
   "cell_type": "code",
   "execution_count": 12,
   "id": "10fd143a",
   "metadata": {},
   "outputs": [
    {
     "name": "stdout",
     "output_type": "stream",
     "text": [
      "Shape 0\n",
      "<class 'pptx.shapes.placeholder.SlidePlaceholder'>\n",
      "Shape 1\n",
      "<class 'pptx.shapes.placeholder.PlaceholderGraphicFrame'>\n",
      "cell(0, 0):\tFirst column\n",
      "cell(0, 1):\tSecond column\n",
      "cell(1, 0):\tYes\n",
      "cell(1, 1):\t\n",
      "There is no cell(2, 0)\n",
      "There is no cell(2, 1)\n",
      "----------------------------------------------------------------------------------------------------\n",
      "Shape 2\n",
      "<class 'pptx.shapes.graphfrm.GraphicFrame'>\n",
      "cell(0, 0):\tWord\n",
      "cell(0, 1):\tTranslation\n",
      "cell(1, 0):\tBonjour\n",
      "cell(1, 1):\tGood morning\n",
      "cell(2, 0):\tBonsoir\n",
      "cell(2, 1):\tGood evening\n",
      "----------------------------------------------------------------------------------------------------\n",
      "Shape 3\n",
      "<class 'pptx.shapes.connector.Connector'>\n"
     ]
    }
   ],
   "source": [
    "look_at_table(r'.\\Layouts\\table.pptx')"
   ]
  },
  {
   "cell_type": "code",
   "execution_count": 13,
   "id": "79bb0613",
   "metadata": {},
   "outputs": [],
   "source": [
    "def change_table(presentation):\n",
    "    prs = Presentation(presentation)\n",
    "    slide = prs.slides[0]\n",
    "    \n",
    "    shape = slide.shapes[1]\n",
    "    \n",
    "    # the font from layout presentation (Algerian) turned into the standard font (Calibri)\n",
    "    cell = shape.table.cell(1, 0)\n",
    "    cell.text = 'Yes'\n",
    "    \n",
    "    # adding text into empty cell (standard font)\n",
    "    cell = shape.table.cell(1, 1)\n",
    "    cell.text = 'No'\n",
    "    \n",
    "    shape = slide.shapes[2]\n",
    "    \n",
    "    cell = shape.table.cell(0, 0)\n",
    "    text_frame = cell.text_frame\n",
    "    # the way to keep font as in layout presentation \n",
    "    for i in range(len(text_frame.paragraphs[0].runs)):\n",
    "        text_frame.paragraphs[0].runs[i].text = ''\n",
    "    text_frame.paragraphs[0].runs[0].text = 'Greetings'\n",
    "    \n",
    "    # also we can change the COLOR \n",
    "    text_frame.paragraphs[0].runs[0].font.color.rgb = RGBColor(32, 178, 170) # \tlight sea green\n",
    "            \n",
    "    prs.save(r'.\\Final_presentation\\table.pptx')"
   ]
  },
  {
   "cell_type": "code",
   "execution_count": 14,
   "id": "38932ec2",
   "metadata": {},
   "outputs": [],
   "source": [
    "change_table(r'.\\Layouts\\table.pptx')"
   ]
  },
  {
   "cell_type": "markdown",
   "id": "7cfa0fef",
   "metadata": {},
   "source": [
    "#### We can delete slides from Presentation\n",
    "\n",
    "https://stackoverflow.com/questions/37375687/python-to-remove-copy-ppt-slides"
   ]
  },
  {
   "cell_type": "code",
   "execution_count": 15,
   "id": "b3f7b18c",
   "metadata": {},
   "outputs": [],
   "source": [
    "def drop_slides(slides_to_keep, prs):  # numeration begins from 1\n",
    "\n",
    "    indexes_to_remove = [x for x in range(1, len(prs.slides._sldIdLst)+1) if x not in slides_to_keep]\n",
    "\n",
    "    for i, slide in enumerate(prs.slides):\n",
    "        id_dict = {slide.id: [i, slide.rId] for i, slide in enumerate(prs.slides._sldIdLst)}\n",
    "\n",
    "        if i+1 in indexes_to_remove:\n",
    "            slide_id = slide.slide_id\n",
    "\n",
    "            prs.part.drop_rel(id_dict[slide_id][1])\n",
    "            del prs.slides._sldIdLst[id_dict[slide_id][0]]\n",
    "\n",
    "    return prs"
   ]
  },
  {
   "cell_type": "code",
   "execution_count": 16,
   "id": "4ee63cfc",
   "metadata": {},
   "outputs": [],
   "source": [
    "path = r'.\\Layouts\\delete_slide.pptx'\n",
    "new_prs = drop_slides([1], Presentation(path))\n",
    "new_prs.save(r'.\\Final_presentation\\after_del.pptx')"
   ]
  },
  {
   "cell_type": "markdown",
   "id": "d0349c09",
   "metadata": {},
   "source": [
    "#### Also we can merge our separate slides"
   ]
  },
  {
   "cell_type": "code",
   "execution_count": 17,
   "id": "d2e828d5",
   "metadata": {},
   "outputs": [],
   "source": [
    "def join_pptx(pptx_folder):\n",
    "    files = os.listdir(pptx_folder)\n",
    "    print(pptx_folder)\n",
    "    print(files)\n",
    "    Application = win32com.client.Dispatch(\"PowerPoint.Application\")\n",
    "    Application.Visible = True\n",
    "        \n",
    "        # Create new presentation\n",
    "    new_pptx = Application.Presentations.Add()\n",
    "\n",
    "    for file in ['first_slide.pptx', 'after_del.pptx', 'table.pptx']:\n",
    "        # Open and read page numbers        \n",
    "        # takes full path\n",
    "        path_to_file = os.path.join(r'C:\\Users\\agaleeva\\python-pptx', 'Final_presentation', file)\n",
    "        exit_pptx = Application.Presentations.Open(path_to_file)\n",
    "        page_num = exit_pptx.Slides.Count\n",
    "        exit_pptx.Close()\n",
    "        num = new_pptx.Slides.InsertFromFile(path_to_file\n",
    "                                            , new_pptx.Slides.Count,1,page_num)\n",
    "\n",
    "    new_pptx.SaveAs(r'C:\\Users\\agaleeva\\python-pptx\\Final_presentation\\FINAL.pptx')\n",
    "    Application.Quit()\n",
    "    print('close')"
   ]
  },
  {
   "cell_type": "code",
   "execution_count": 18,
   "id": "5268bed7",
   "metadata": {},
   "outputs": [
    {
     "name": "stdout",
     "output_type": "stream",
     "text": [
      ".\\Final_presentation\n",
      "['after_del.pptx', 'first_slide.pptx', 'first_slide_standard_font.pptx', 'table.pptx']\n",
      "close\n"
     ]
    }
   ],
   "source": [
    "join_pptx(r'.\\Final_presentation')"
   ]
  },
  {
   "cell_type": "markdown",
   "id": "87622592",
   "metadata": {},
   "source": [
    "<span style=\"color:red\">**Problem: the colors of slides backgrounds have not been preserved. They turned into white.**</span>"
   ]
  },
  {
   "cell_type": "markdown",
   "id": "92acb31a",
   "metadata": {},
   "source": [
    "#### pptx -> pdf"
   ]
  },
  {
   "cell_type": "code",
   "execution_count": 19,
   "id": "3bf97a64",
   "metadata": {},
   "outputs": [],
   "source": [
    "def convert(filename, formatType = 32):\n",
    "    powerpoint = win32com.client.Dispatch(\"Powerpoint.Application\")\n",
    "    powerpoint.Visible = 1\n",
    "    pptx_name = os.path.split(filename)[1]\n",
    "    pdf_name = os.path.splitext(pptx_name)[0]+'.pdf'\n",
    "    folder = os.path.split(filename)[0]\n",
    "    newpath = os.path.join(folder, pdf_name)\n",
    "    deck = powerpoint.Presentations.Open(filename)\n",
    "    deck.SaveAs(newpath, formatType)\n",
    "    deck.Close()\n",
    "    powerpoint.Quit()"
   ]
  },
  {
   "cell_type": "code",
   "execution_count": 20,
   "id": "2beb95de",
   "metadata": {},
   "outputs": [],
   "source": [
    "convert(r'C:\\Users\\agaleeva\\python-pptx\\Final_presentation\\FINAL.pptx')"
   ]
  },
  {
   "cell_type": "code",
   "execution_count": 21,
   "id": "8bcf269e",
   "metadata": {},
   "outputs": [
    {
     "data": {
      "text/plain": [
       "3.1681435108184814"
      ]
     },
     "execution_count": 21,
     "metadata": {},
     "output_type": "execute_result"
    }
   ],
   "source": [
    "time.time() - start_time"
   ]
  }
 ],
 "metadata": {
  "kernelspec": {
   "display_name": "Python 3",
   "language": "python",
   "name": "python3"
  },
  "language_info": {
   "codemirror_mode": {
    "name": "ipython",
    "version": 3
   },
   "file_extension": ".py",
   "mimetype": "text/x-python",
   "name": "python",
   "nbconvert_exporter": "python",
   "pygments_lexer": "ipython3",
   "version": "3.8.8"
  }
 },
 "nbformat": 4,
 "nbformat_minor": 5
}
